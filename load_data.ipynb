{
 "cells": [
  {
   "cell_type": "code",
   "execution_count": 1,
   "id": "f19514ca-4bc1-4e27-a985-b245bd212430",
   "metadata": {
    "execution": {
     "iopub.execute_input": "2021-06-04T15:32:38.424210Z",
     "iopub.status.busy": "2021-06-04T15:32:38.423468Z",
     "iopub.status.idle": "2021-06-04T15:32:54.394811Z",
     "shell.execute_reply": "2021-06-04T15:32:54.395820Z"
    },
    "papermill": {
     "duration": 15.995075,
     "end_time": "2021-06-04T15:32:54.396441",
     "exception": false,
     "start_time": "2021-06-04T15:32:38.401366",
     "status": "completed"
    },
    "tags": []
   },
   "outputs": [
    {
     "name": "stdout",
     "output_type": "stream",
     "text": [
      "Downloading data file https://www.cs.toronto.edu/~kriz/cifar-10-python.tar.gz ...\n"
     ]
    },
    {
     "name": "stdout",
     "output_type": "stream",
     "text": [
      "Saving downloaded file \"cifar-10-python.tar.gz\" as ...\n",
      "Extracting downloaded file in directory \"data\" ...\n"
     ]
    },
    {
     "name": "stdout",
     "output_type": "stream",
     "text": [
      "Removing downloaded file ...\n"
     ]
    }
   ],
   "source": [
    "import glob\n",
    "import json\n",
    "import os\n",
    "from pathlib import Path\n",
    "import requests\n",
    "import tarfile\n",
    "from urllib.parse import urlparse\n",
    "\n",
    "data_file = os.getenv('DATASET_URL', 'https://www.cs.toronto.edu/~kriz/cifar-10-python.tar.gz')\n",
    "\n",
    "data_dir_name = 'data'\n",
    "\n",
    "print('Downloading data file {} ...'.format(data_file))\n",
    "r = requests.get(data_file)\n",
    "if r.status_code != 200:\n",
    "    raise RuntimeError('Could not fetch {}: HTTP status code {}'\n",
    "                       .format(data_file, r.status_code))\n",
    "else:\n",
    "    # extract data set file name from URL\n",
    "    data_file_name = Path((urlparse(data_file).path)).name\n",
    "    # create the directory where the downloaded file will be stored\n",
    "    data_dir = Path(data_dir_name)\n",
    "    data_dir.mkdir(parents=True, exist_ok=True)\n",
    "    downloaded_data_file = data_dir / data_file_name\n",
    "\n",
    "    print('Saving downloaded file \"{}\" as ...'.format(data_file_name))\n",
    "    with open(downloaded_data_file, 'wb') as downloaded_file:\n",
    "        downloaded_file.write(r.content)\n",
    "\n",
    "    print('Extracting downloaded file in directory \"{}\" ...'\n",
    "          .format(data_dir))\n",
    "    with tarfile.open(downloaded_data_file, 'r') as tar:\n",
    "        tar.extractall(data_dir)\n",
    "    print('Removing downloaded file ...')\n",
    "    downloaded_data_file.unlink()"
   ]
  },
  {
   "cell_type": "code",
   "execution_count": null,
   "id": "a350bec8-3005-4599-b638-1d78ee0f7ebe",
   "metadata": {
    "papermill": {
     "duration": 0.630044,
     "end_time": "2021-06-04T15:32:55.139221",
     "exception": false,
     "start_time": "2021-06-04T15:32:54.509177",
     "status": "completed"
    },
    "tags": []
   },
   "outputs": [],
   "source": []
  }
 ],
 "metadata": {
  "kernelspec": {
   "display_name": "Python 3",
   "language": "python",
   "name": "python3"
  },
  "language_info": {
   "codemirror_mode": {
    "name": "ipython",
    "version": 3
   },
   "file_extension": ".py",
   "mimetype": "text/x-python",
   "name": "python",
   "nbconvert_exporter": "python",
   "pygments_lexer": "ipython3",
   "version": "3.8.6"
  },
  "papermill": {
   "default_parameters": {},
   "duration": 17.77709,
   "end_time": "2021-06-04T15:32:55.457089",
   "environment_variables": {},
   "exception": null,
   "input_path": "/home/jovyan/load_data.ipynb",
   "output_path": "/home/jovyan/load_data.ipynb",
   "parameters": {},
   "start_time": "2021-06-04T15:32:37.679999",
   "version": "2.3.3"
  }
 },
 "nbformat": 4,
 "nbformat_minor": 5
}